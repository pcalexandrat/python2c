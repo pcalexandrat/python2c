{
  "nbformat": 4,
  "nbformat_minor": 0,
  "metadata": {
    "colab": {
      "provenance": [],
      "authorship_tag": "ABX9TyMdGJbz+A/ppfMUDaygxz9h",
      "include_colab_link": true
    },
    "kernelspec": {
      "name": "python3",
      "display_name": "Python 3"
    },
    "language_info": {
      "name": "python"
    }
  },
  "cells": [
    {
      "cell_type": "markdown",
      "metadata": {
        "id": "view-in-github",
        "colab_type": "text"
      },
      "source": [
        "<a href=\"https://colab.research.google.com/github/pcalexandrat/python2c/blob/main/Python.ipynb\" target=\"_parent\"><img src=\"https://colab.research.google.com/assets/colab-badge.svg\" alt=\"Open In Colab\"/></a>"
      ]
    },
    {
      "cell_type": "markdown",
      "source": [
        "Aula 1"
      ],
      "metadata": {
        "id": "IAPTpsuvzc1R"
      }
    },
    {
      "cell_type": "code",
      "execution_count": null,
      "metadata": {
        "colab": {
          "base_uri": "https://localhost:8080/"
        },
        "id": "RIfcyAnszIvh",
        "outputId": "e7353d43-5e65-4308-e04e-b6506c1172ee"
      },
      "outputs": [
        {
          "output_type": "stream",
          "name": "stdout",
          "text": [
            "X competição de programação dá Start\n"
          ]
        }
      ],
      "source": [
        "ano = \"X\"\n",
        "print (ano, \"competição de programação dá Start\")"
      ]
    },
    {
      "cell_type": "markdown",
      "source": [
        "Aula 2"
      ],
      "metadata": {
        "id": "QnUyrg8A2N2J"
      }
    },
    {
      "cell_type": "code",
      "source": [
        "livro_ficcao = 8\n",
        "livro_n_ficcao = 10\n",
        "livro_infantil = 6\n",
        "pontos_rodrigo = livro_ficcao + livro_n_ficcao + livro_infantil\n",
        "pontos_ana = 2 * livro_ficcao + 5 * livro_infantil\n",
        "pontos_totais = pontos_rodrigo + pontos_ana\n",
        "print(f\"Os pontos totais do Rodrigo são {pontos_rodrigo}\")\n",
        "print(f\"Os pontos totais de Ana são {pontos_ana}\")\n",
        "print(f\"Os pontos totais de  Ana e Rodrigo são {pontos_totais}\")"
      ],
      "metadata": {
        "colab": {
          "base_uri": "https://localhost:8080/"
        },
        "id": "8hs9wTdD2Wam",
        "outputId": "d5bbb9da-f55b-4ff1-be1d-6e0041d56e75"
      },
      "execution_count": null,
      "outputs": [
        {
          "output_type": "stream",
          "name": "stdout",
          "text": [
            "Os pontos totais do Rodrigo são 24\n",
            "Os pontos totais de Ana são 46\n",
            "Os pontos totais de  Ana e Rodrigo são 70\n"
          ]
        }
      ]
    },
    {
      "cell_type": "markdown",
      "source": [
        "Aula 3"
      ],
      "metadata": {
        "id": "zriFN-IR6Iny"
      }
    },
    {
      "cell_type": "code",
      "source": [
        "total_de_figurinhas = int(input(\"Digite o total de figurinhas: \"))\n",
        "numero_de_amigos = int(input(\"Digite o número de amigos: \"))\n",
        "figurinhas_amigo = total_de_figurinhas // (numero_de_amigos + 2)\n",
        "figurinhas_joao = 2 * figurinhas_amigo\n",
        "figurinhas_extras = int(input(\"Digite o número de figurinhas extras: \"))\n",
        "figurinhas_extras = figurinhas_extras // (numero_de_amigos + 2)\n",
        "figurinhas_joao2 = figurinhas_extras * 2\n",
        "\n",
        "\n",
        "print(f\"João recebeu {figurinhas_joao} figurinhas\")\n",
        "print(f\"João recebeu {figurinhas_joao2} figurinhas extras\")\n"
      ],
      "metadata": {
        "colab": {
          "base_uri": "https://localhost:8080/"
        },
        "id": "yQcXilhv6ycw",
        "outputId": "bad02260-e703-4e5b-c754-1913e0d3533a"
      },
      "execution_count": null,
      "outputs": [
        {
          "output_type": "stream",
          "name": "stdout",
          "text": [
            "Digite o total de figurinhas: 200\n",
            "Digite o número de amigos: 6\n",
            "Digite o número de figurinhas extras: 20\n",
            "João recebeu 50 figurinhas\n",
            "João recebeu 4 figurinhas extras\n"
          ]
        }
      ]
    },
    {
      "cell_type": "markdown",
      "source": [
        "#**Aula 4** ▶  ⏰  💓  \n",
        "\n",
        "##Dia de prova\n",
        "\n"
      ],
      "metadata": {
        "id": "NBQcT_Rn3rJ_"
      }
    },
    {
      "cell_type": "code",
      "source": [
        "P = int(input(\"Digite a posição da porta P (0 ou 1): \"))\n",
        "R = int(input(\"Digite a posição da porta R (0 ou 1): \"))\n",
        "if P == 0:\n",
        "    print(\"C\")\n",
        "elif R == 1:\n",
        "    print(\"A\")\n",
        "else:\n",
        "    print(\"B\")"
      ],
      "metadata": {
        "id": "mj95eiCI5sVb",
        "outputId": "458fded8-07eb-4cd1-d3ca-c7a59731600e",
        "colab": {
          "base_uri": "https://localhost:8080/"
        }
      },
      "execution_count": null,
      "outputs": [
        {
          "output_type": "stream",
          "name": "stdout",
          "text": [
            "Digite a posição da porta P (0 ou 1): 0\n",
            "Digite a posição da porta R (0 ou 1): 1\n",
            "C\n"
          ]
        }
      ]
    },
    {
      "cell_type": "markdown",
      "source": [
        "#***Aula 8***  ◀  ⛵  ⛽"
      ],
      "metadata": {
        "id": "l2K29YgADfqi"
      }
    },
    {
      "cell_type": "code",
      "source": [
        "print(\"Sou seu assistente virtual  \\n\")\n",
        "nome = input(\"Digite seu nome: \")\n",
        "print(f\"Olá {nome}, em que posso ajudar?\")\n",
        "resposta = input(\"Qual assunto você deseja tratar? Matemática, Python ou Javascript: \").lower()\n",
        "if resposta ==\"python\":\n",
        "  print(\"Ótimo, vamos falar sobre Python!\")\n",
        "  print(\"\")\n",
        "elif resposta==\"matemática\":\n",
        "  print(\"Perfeito, vamos resolver umas questões de matemática!\")\n",
        "elif resposta==\"javascript\":\n",
        "  print(\"Que legal, vamos conversar sobre javascript!\")\n",
        "else:\n",
        "  print(\"Hum, não sei falar sobre esse assunto 😒\")\n"
      ],
      "metadata": {
        "id": "TzEw5wIKER15",
        "outputId": "5fa7e53b-f115-4305-f2d3-e319888b9837",
        "colab": {
          "base_uri": "https://localhost:8080/"
        }
      },
      "execution_count": 10,
      "outputs": [
        {
          "output_type": "stream",
          "name": "stdout",
          "text": [
            "Sou seu assistente virtual  \n",
            "\n",
            "Digite seu nome: Ale\n",
            "Olá Ale, em que posso ajudar?\n",
            "Qual assunto você deseja tratar? Matemática, Python ou JavascriptPyThOn\n",
            "Ótimo, vamos falar sobre Python!\n"
          ]
        }
      ]
    }
  ]
}